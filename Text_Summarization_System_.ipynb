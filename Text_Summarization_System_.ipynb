{
  "nbformat": 4,
  "nbformat_minor": 0,
  "metadata": {
    "colab": {
      "provenance": [],
      "authorship_tag": "ABX9TyNP0x0eKirVhBGjMR6ZPa0E",
      "include_colab_link": true
    },
    "kernelspec": {
      "name": "python3",
      "display_name": "Python 3"
    },
    "language_info": {
      "name": "python"
    }
  },
  "cells": [
    {
      "cell_type": "markdown",
      "metadata": {
        "id": "view-in-github",
        "colab_type": "text"
      },
      "source": [
        "<a href=\"https://colab.research.google.com/github/diyamanapetty/Text-Summarizer/blob/main/Text_Summarization_System_.ipynb\" target=\"_parent\"><img src=\"https://colab.research.google.com/assets/colab-badge.svg\" alt=\"Open In Colab\"/></a>"
      ]
    },
    {
      "cell_type": "code",
      "execution_count": null,
      "metadata": {
        "id": "TrvNWU0RNpWR"
      },
      "outputs": [],
      "source": [
        "import spacy, en_core_web_sm\n",
        "from collections import Counter\n",
        "nlp = spacy.load('en_core_web_sm')\n",
        "from spacy.matcher import Matcher\n",
        "matcher = Matcher(nlp.vocab)"
      ]
    },
    {
      "cell_type": "code",
      "source": [
        "sentence_to_be_ranked = ('Financially good conference situations.')\n",
        "text_document_snippet = ('There is a developer beautiful and great conference happening on 21 July 2019 in London. The conference is in area of biological sciences.')"
      ],
      "metadata": {
        "id": "MvdqSOyNNp3d"
      },
      "execution_count": null,
      "outputs": []
    },
    {
      "cell_type": "code",
      "source": [
        "doc = nlp(text_document_snippet)\n",
        "sent = nlp(sentence_to_be_ranked)"
      ],
      "metadata": {
        "id": "H74nvDI5Oes8"
      },
      "execution_count": null,
      "outputs": []
    },
    {
      "cell_type": "code",
      "source": [
        "def getMainNounChuck(inputSentence):\n",
        "    lenChunk = 0\n",
        "    prevLen = -1\n",
        "    mainChunk = \"\"\n",
        "    for chunk in inputSentence.noun_chunks:\n",
        "        lenChunk = len(chunk)\n",
        "        print(chunk)\n",
        "        print(lenChunk)\n",
        "        if prevLen < lenChunk:\n",
        "            mainChunk = chunk\n",
        "            prevLen = lenChunk\n",
        "    print(\"Main chunk is: \", mainChunk)\n",
        "    return mainChunk"
      ],
      "metadata": {
        "id": "Y8KTqzjjOgSC"
      },
      "execution_count": null,
      "outputs": []
    },
    {
      "cell_type": "code",
      "source": [
        "def getSentimentScore(doc):\n",
        "    print(\"Sentiment is \", doc.sentiment * 10)\n",
        "    return doc.sentiment * 10"
      ],
      "metadata": {
        "id": "DGMVd_GQO1Jf"
      },
      "execution_count": null,
      "outputs": []
    },
    {
      "cell_type": "code",
      "source": [
        "def getsentiment2(sent):\n",
        "    from textblob import TextBlob\n",
        "    sentimentObject = TextBlob(sent.text) # Change here: Access the text content using sent.text\n",
        "    sentimentObject = sentimentObject.sentiment\n",
        "    print(\"Sentiment\", sentimentObject.polarity * 10)\n",
        "    return sentimentObject.polarity * 10"
      ],
      "metadata": {
        "id": "JB6jONPIO3iV"
      },
      "execution_count": null,
      "outputs": []
    },
    {
      "cell_type": "code",
      "source": [
        "def getSimilarity(sentence1, doc1):\n",
        "    return doc1.similarity(sentence1)"
      ],
      "metadata": {
        "id": "kzEjJFGuO51g"
      },
      "execution_count": null,
      "outputs": []
    },
    {
      "cell_type": "code",
      "source": [
        "def getPOSCOUNT(inputText, inputPOSTag):\n",
        "    nlp = en_core_web_sm.load()\n",
        "    countPOS = 0\n",
        "    doc = nlp(inputText)\n",
        "    for token in doc:\n",
        "        countPOS += 1\n",
        "        dictonaryInputText = (Counter(([token.pos_ for token in doc]))) #Count POS tags for the entire doc\n",
        "        print(dictonaryInputText)\n",
        "    return dictonaryInputText[inputPOSTag]/(countPOS+1) * 100 #Access initialized countPOS"
      ],
      "metadata": {
        "id": "rf6BQzD5O8eh"
      },
      "execution_count": null,
      "outputs": []
    },
    {
      "cell_type": "code",
      "source": [
        "print(getMainNounChuck(sent))\n",
        "print(\"the similarity between sentences is\", getSimilarity(nlp(sentence_to_be_ranked), getMainNounChuck(doc)))\n",
        "getSentimentScore(sent)\n",
        "print(\"Noun count\", getPOSCOUNT(text_document_snippet, \"NOUN\"))\n",
        "print(\"Verb count\", getPOSCOUNT(text_document_snippet, \"VERB\"))\n",
        "print(\"Adj count\", getPOSCOUNT(text_document_snippet, \"ADJ\"))\n"
      ],
      "metadata": {
        "colab": {
          "base_uri": "https://localhost:8080/"
        },
        "id": "5pMqVCsSPCwo",
        "outputId": "1e7c22bb-79f6-41d1-e870-ace4ee67002d"
      },
      "execution_count": null,
      "outputs": [
        {
          "output_type": "stream",
          "name": "stdout",
          "text": [
            "Financially good conference situations\n",
            "4\n",
            "Main chunk is:  Financially good conference situations\n",
            "Financially good conference situations\n",
            "a developer beautiful and great conference\n",
            "6\n",
            "21 July\n",
            "2\n",
            "London\n",
            "1\n",
            "The conference\n",
            "2\n",
            "area\n",
            "1\n",
            "biological sciences\n",
            "2\n",
            "Main chunk is:  a developer beautiful and great conference\n",
            "the similarity between sentences is 0.2777867913246155\n",
            "Sentiment is  0.0\n"
          ]
        },
        {
          "output_type": "stream",
          "name": "stderr",
          "text": [
            "<ipython-input-12-f1a6945d27b3>:2: UserWarning: [W007] The model you're using has no word vectors loaded, so the result of the Span.similarity method will be based on the tagger, parser and NER, which may not give useful similarity judgements. This may happen if you're using one of the small models, e.g. `en_core_web_sm`, which don't ship with word vectors and only use context-sensitive tensors. You can always add your own word vectors, or use one of the larger models instead if available.\n",
            "  return doc1.similarity(sentence1)\n"
          ]
        },
        {
          "output_type": "stream",
          "name": "stdout",
          "text": [
            "Counter({'NOUN': 5, 'ADP': 4, 'ADJ': 3, 'VERB': 2, 'DET': 2, 'NUM': 2, 'PROPN': 2, 'PUNCT': 2, 'PRON': 1, 'CCONJ': 1, 'AUX': 1})\n",
            "Counter({'NOUN': 5, 'ADP': 4, 'ADJ': 3, 'VERB': 2, 'DET': 2, 'NUM': 2, 'PROPN': 2, 'PUNCT': 2, 'PRON': 1, 'CCONJ': 1, 'AUX': 1})\n",
            "Counter({'NOUN': 5, 'ADP': 4, 'ADJ': 3, 'VERB': 2, 'DET': 2, 'NUM': 2, 'PROPN': 2, 'PUNCT': 2, 'PRON': 1, 'CCONJ': 1, 'AUX': 1})\n",
            "Counter({'NOUN': 5, 'ADP': 4, 'ADJ': 3, 'VERB': 2, 'DET': 2, 'NUM': 2, 'PROPN': 2, 'PUNCT': 2, 'PRON': 1, 'CCONJ': 1, 'AUX': 1})\n",
            "Counter({'NOUN': 5, 'ADP': 4, 'ADJ': 3, 'VERB': 2, 'DET': 2, 'NUM': 2, 'PROPN': 2, 'PUNCT': 2, 'PRON': 1, 'CCONJ': 1, 'AUX': 1})\n",
            "Counter({'NOUN': 5, 'ADP': 4, 'ADJ': 3, 'VERB': 2, 'DET': 2, 'NUM': 2, 'PROPN': 2, 'PUNCT': 2, 'PRON': 1, 'CCONJ': 1, 'AUX': 1})\n",
            "Counter({'NOUN': 5, 'ADP': 4, 'ADJ': 3, 'VERB': 2, 'DET': 2, 'NUM': 2, 'PROPN': 2, 'PUNCT': 2, 'PRON': 1, 'CCONJ': 1, 'AUX': 1})\n",
            "Counter({'NOUN': 5, 'ADP': 4, 'ADJ': 3, 'VERB': 2, 'DET': 2, 'NUM': 2, 'PROPN': 2, 'PUNCT': 2, 'PRON': 1, 'CCONJ': 1, 'AUX': 1})\n",
            "Counter({'NOUN': 5, 'ADP': 4, 'ADJ': 3, 'VERB': 2, 'DET': 2, 'NUM': 2, 'PROPN': 2, 'PUNCT': 2, 'PRON': 1, 'CCONJ': 1, 'AUX': 1})\n",
            "Counter({'NOUN': 5, 'ADP': 4, 'ADJ': 3, 'VERB': 2, 'DET': 2, 'NUM': 2, 'PROPN': 2, 'PUNCT': 2, 'PRON': 1, 'CCONJ': 1, 'AUX': 1})\n",
            "Counter({'NOUN': 5, 'ADP': 4, 'ADJ': 3, 'VERB': 2, 'DET': 2, 'NUM': 2, 'PROPN': 2, 'PUNCT': 2, 'PRON': 1, 'CCONJ': 1, 'AUX': 1})\n",
            "Counter({'NOUN': 5, 'ADP': 4, 'ADJ': 3, 'VERB': 2, 'DET': 2, 'NUM': 2, 'PROPN': 2, 'PUNCT': 2, 'PRON': 1, 'CCONJ': 1, 'AUX': 1})\n",
            "Counter({'NOUN': 5, 'ADP': 4, 'ADJ': 3, 'VERB': 2, 'DET': 2, 'NUM': 2, 'PROPN': 2, 'PUNCT': 2, 'PRON': 1, 'CCONJ': 1, 'AUX': 1})\n",
            "Counter({'NOUN': 5, 'ADP': 4, 'ADJ': 3, 'VERB': 2, 'DET': 2, 'NUM': 2, 'PROPN': 2, 'PUNCT': 2, 'PRON': 1, 'CCONJ': 1, 'AUX': 1})\n",
            "Counter({'NOUN': 5, 'ADP': 4, 'ADJ': 3, 'VERB': 2, 'DET': 2, 'NUM': 2, 'PROPN': 2, 'PUNCT': 2, 'PRON': 1, 'CCONJ': 1, 'AUX': 1})\n",
            "Counter({'NOUN': 5, 'ADP': 4, 'ADJ': 3, 'VERB': 2, 'DET': 2, 'NUM': 2, 'PROPN': 2, 'PUNCT': 2, 'PRON': 1, 'CCONJ': 1, 'AUX': 1})\n",
            "Counter({'NOUN': 5, 'ADP': 4, 'ADJ': 3, 'VERB': 2, 'DET': 2, 'NUM': 2, 'PROPN': 2, 'PUNCT': 2, 'PRON': 1, 'CCONJ': 1, 'AUX': 1})\n",
            "Counter({'NOUN': 5, 'ADP': 4, 'ADJ': 3, 'VERB': 2, 'DET': 2, 'NUM': 2, 'PROPN': 2, 'PUNCT': 2, 'PRON': 1, 'CCONJ': 1, 'AUX': 1})\n",
            "Counter({'NOUN': 5, 'ADP': 4, 'ADJ': 3, 'VERB': 2, 'DET': 2, 'NUM': 2, 'PROPN': 2, 'PUNCT': 2, 'PRON': 1, 'CCONJ': 1, 'AUX': 1})\n",
            "Counter({'NOUN': 5, 'ADP': 4, 'ADJ': 3, 'VERB': 2, 'DET': 2, 'NUM': 2, 'PROPN': 2, 'PUNCT': 2, 'PRON': 1, 'CCONJ': 1, 'AUX': 1})\n",
            "Counter({'NOUN': 5, 'ADP': 4, 'ADJ': 3, 'VERB': 2, 'DET': 2, 'NUM': 2, 'PROPN': 2, 'PUNCT': 2, 'PRON': 1, 'CCONJ': 1, 'AUX': 1})\n",
            "Counter({'NOUN': 5, 'ADP': 4, 'ADJ': 3, 'VERB': 2, 'DET': 2, 'NUM': 2, 'PROPN': 2, 'PUNCT': 2, 'PRON': 1, 'CCONJ': 1, 'AUX': 1})\n",
            "Counter({'NOUN': 5, 'ADP': 4, 'ADJ': 3, 'VERB': 2, 'DET': 2, 'NUM': 2, 'PROPN': 2, 'PUNCT': 2, 'PRON': 1, 'CCONJ': 1, 'AUX': 1})\n",
            "Counter({'NOUN': 5, 'ADP': 4, 'ADJ': 3, 'VERB': 2, 'DET': 2, 'NUM': 2, 'PROPN': 2, 'PUNCT': 2, 'PRON': 1, 'CCONJ': 1, 'AUX': 1})\n",
            "Counter({'NOUN': 5, 'ADP': 4, 'ADJ': 3, 'VERB': 2, 'DET': 2, 'NUM': 2, 'PROPN': 2, 'PUNCT': 2, 'PRON': 1, 'CCONJ': 1, 'AUX': 1})\n",
            "Noun count 19.230769230769234\n",
            "Counter({'NOUN': 5, 'ADP': 4, 'ADJ': 3, 'VERB': 2, 'DET': 2, 'NUM': 2, 'PROPN': 2, 'PUNCT': 2, 'PRON': 1, 'CCONJ': 1, 'AUX': 1})\n",
            "Counter({'NOUN': 5, 'ADP': 4, 'ADJ': 3, 'VERB': 2, 'DET': 2, 'NUM': 2, 'PROPN': 2, 'PUNCT': 2, 'PRON': 1, 'CCONJ': 1, 'AUX': 1})\n",
            "Counter({'NOUN': 5, 'ADP': 4, 'ADJ': 3, 'VERB': 2, 'DET': 2, 'NUM': 2, 'PROPN': 2, 'PUNCT': 2, 'PRON': 1, 'CCONJ': 1, 'AUX': 1})\n",
            "Counter({'NOUN': 5, 'ADP': 4, 'ADJ': 3, 'VERB': 2, 'DET': 2, 'NUM': 2, 'PROPN': 2, 'PUNCT': 2, 'PRON': 1, 'CCONJ': 1, 'AUX': 1})\n",
            "Counter({'NOUN': 5, 'ADP': 4, 'ADJ': 3, 'VERB': 2, 'DET': 2, 'NUM': 2, 'PROPN': 2, 'PUNCT': 2, 'PRON': 1, 'CCONJ': 1, 'AUX': 1})\n",
            "Counter({'NOUN': 5, 'ADP': 4, 'ADJ': 3, 'VERB': 2, 'DET': 2, 'NUM': 2, 'PROPN': 2, 'PUNCT': 2, 'PRON': 1, 'CCONJ': 1, 'AUX': 1})\n",
            "Counter({'NOUN': 5, 'ADP': 4, 'ADJ': 3, 'VERB': 2, 'DET': 2, 'NUM': 2, 'PROPN': 2, 'PUNCT': 2, 'PRON': 1, 'CCONJ': 1, 'AUX': 1})\n",
            "Counter({'NOUN': 5, 'ADP': 4, 'ADJ': 3, 'VERB': 2, 'DET': 2, 'NUM': 2, 'PROPN': 2, 'PUNCT': 2, 'PRON': 1, 'CCONJ': 1, 'AUX': 1})\n",
            "Counter({'NOUN': 5, 'ADP': 4, 'ADJ': 3, 'VERB': 2, 'DET': 2, 'NUM': 2, 'PROPN': 2, 'PUNCT': 2, 'PRON': 1, 'CCONJ': 1, 'AUX': 1})\n",
            "Counter({'NOUN': 5, 'ADP': 4, 'ADJ': 3, 'VERB': 2, 'DET': 2, 'NUM': 2, 'PROPN': 2, 'PUNCT': 2, 'PRON': 1, 'CCONJ': 1, 'AUX': 1})\n",
            "Counter({'NOUN': 5, 'ADP': 4, 'ADJ': 3, 'VERB': 2, 'DET': 2, 'NUM': 2, 'PROPN': 2, 'PUNCT': 2, 'PRON': 1, 'CCONJ': 1, 'AUX': 1})\n",
            "Counter({'NOUN': 5, 'ADP': 4, 'ADJ': 3, 'VERB': 2, 'DET': 2, 'NUM': 2, 'PROPN': 2, 'PUNCT': 2, 'PRON': 1, 'CCONJ': 1, 'AUX': 1})\n",
            "Counter({'NOUN': 5, 'ADP': 4, 'ADJ': 3, 'VERB': 2, 'DET': 2, 'NUM': 2, 'PROPN': 2, 'PUNCT': 2, 'PRON': 1, 'CCONJ': 1, 'AUX': 1})\n",
            "Counter({'NOUN': 5, 'ADP': 4, 'ADJ': 3, 'VERB': 2, 'DET': 2, 'NUM': 2, 'PROPN': 2, 'PUNCT': 2, 'PRON': 1, 'CCONJ': 1, 'AUX': 1})\n",
            "Counter({'NOUN': 5, 'ADP': 4, 'ADJ': 3, 'VERB': 2, 'DET': 2, 'NUM': 2, 'PROPN': 2, 'PUNCT': 2, 'PRON': 1, 'CCONJ': 1, 'AUX': 1})\n",
            "Counter({'NOUN': 5, 'ADP': 4, 'ADJ': 3, 'VERB': 2, 'DET': 2, 'NUM': 2, 'PROPN': 2, 'PUNCT': 2, 'PRON': 1, 'CCONJ': 1, 'AUX': 1})\n",
            "Counter({'NOUN': 5, 'ADP': 4, 'ADJ': 3, 'VERB': 2, 'DET': 2, 'NUM': 2, 'PROPN': 2, 'PUNCT': 2, 'PRON': 1, 'CCONJ': 1, 'AUX': 1})\n",
            "Counter({'NOUN': 5, 'ADP': 4, 'ADJ': 3, 'VERB': 2, 'DET': 2, 'NUM': 2, 'PROPN': 2, 'PUNCT': 2, 'PRON': 1, 'CCONJ': 1, 'AUX': 1})\n",
            "Counter({'NOUN': 5, 'ADP': 4, 'ADJ': 3, 'VERB': 2, 'DET': 2, 'NUM': 2, 'PROPN': 2, 'PUNCT': 2, 'PRON': 1, 'CCONJ': 1, 'AUX': 1})\n",
            "Counter({'NOUN': 5, 'ADP': 4, 'ADJ': 3, 'VERB': 2, 'DET': 2, 'NUM': 2, 'PROPN': 2, 'PUNCT': 2, 'PRON': 1, 'CCONJ': 1, 'AUX': 1})\n",
            "Counter({'NOUN': 5, 'ADP': 4, 'ADJ': 3, 'VERB': 2, 'DET': 2, 'NUM': 2, 'PROPN': 2, 'PUNCT': 2, 'PRON': 1, 'CCONJ': 1, 'AUX': 1})\n",
            "Counter({'NOUN': 5, 'ADP': 4, 'ADJ': 3, 'VERB': 2, 'DET': 2, 'NUM': 2, 'PROPN': 2, 'PUNCT': 2, 'PRON': 1, 'CCONJ': 1, 'AUX': 1})\n",
            "Counter({'NOUN': 5, 'ADP': 4, 'ADJ': 3, 'VERB': 2, 'DET': 2, 'NUM': 2, 'PROPN': 2, 'PUNCT': 2, 'PRON': 1, 'CCONJ': 1, 'AUX': 1})\n",
            "Counter({'NOUN': 5, 'ADP': 4, 'ADJ': 3, 'VERB': 2, 'DET': 2, 'NUM': 2, 'PROPN': 2, 'PUNCT': 2, 'PRON': 1, 'CCONJ': 1, 'AUX': 1})\n",
            "Counter({'NOUN': 5, 'ADP': 4, 'ADJ': 3, 'VERB': 2, 'DET': 2, 'NUM': 2, 'PROPN': 2, 'PUNCT': 2, 'PRON': 1, 'CCONJ': 1, 'AUX': 1})\n",
            "Verb count 7.6923076923076925\n",
            "Counter({'NOUN': 5, 'ADP': 4, 'ADJ': 3, 'VERB': 2, 'DET': 2, 'NUM': 2, 'PROPN': 2, 'PUNCT': 2, 'PRON': 1, 'CCONJ': 1, 'AUX': 1})\n",
            "Counter({'NOUN': 5, 'ADP': 4, 'ADJ': 3, 'VERB': 2, 'DET': 2, 'NUM': 2, 'PROPN': 2, 'PUNCT': 2, 'PRON': 1, 'CCONJ': 1, 'AUX': 1})\n",
            "Counter({'NOUN': 5, 'ADP': 4, 'ADJ': 3, 'VERB': 2, 'DET': 2, 'NUM': 2, 'PROPN': 2, 'PUNCT': 2, 'PRON': 1, 'CCONJ': 1, 'AUX': 1})\n",
            "Counter({'NOUN': 5, 'ADP': 4, 'ADJ': 3, 'VERB': 2, 'DET': 2, 'NUM': 2, 'PROPN': 2, 'PUNCT': 2, 'PRON': 1, 'CCONJ': 1, 'AUX': 1})\n",
            "Counter({'NOUN': 5, 'ADP': 4, 'ADJ': 3, 'VERB': 2, 'DET': 2, 'NUM': 2, 'PROPN': 2, 'PUNCT': 2, 'PRON': 1, 'CCONJ': 1, 'AUX': 1})\n",
            "Counter({'NOUN': 5, 'ADP': 4, 'ADJ': 3, 'VERB': 2, 'DET': 2, 'NUM': 2, 'PROPN': 2, 'PUNCT': 2, 'PRON': 1, 'CCONJ': 1, 'AUX': 1})\n",
            "Counter({'NOUN': 5, 'ADP': 4, 'ADJ': 3, 'VERB': 2, 'DET': 2, 'NUM': 2, 'PROPN': 2, 'PUNCT': 2, 'PRON': 1, 'CCONJ': 1, 'AUX': 1})\n",
            "Counter({'NOUN': 5, 'ADP': 4, 'ADJ': 3, 'VERB': 2, 'DET': 2, 'NUM': 2, 'PROPN': 2, 'PUNCT': 2, 'PRON': 1, 'CCONJ': 1, 'AUX': 1})\n",
            "Counter({'NOUN': 5, 'ADP': 4, 'ADJ': 3, 'VERB': 2, 'DET': 2, 'NUM': 2, 'PROPN': 2, 'PUNCT': 2, 'PRON': 1, 'CCONJ': 1, 'AUX': 1})\n",
            "Counter({'NOUN': 5, 'ADP': 4, 'ADJ': 3, 'VERB': 2, 'DET': 2, 'NUM': 2, 'PROPN': 2, 'PUNCT': 2, 'PRON': 1, 'CCONJ': 1, 'AUX': 1})\n",
            "Counter({'NOUN': 5, 'ADP': 4, 'ADJ': 3, 'VERB': 2, 'DET': 2, 'NUM': 2, 'PROPN': 2, 'PUNCT': 2, 'PRON': 1, 'CCONJ': 1, 'AUX': 1})\n",
            "Counter({'NOUN': 5, 'ADP': 4, 'ADJ': 3, 'VERB': 2, 'DET': 2, 'NUM': 2, 'PROPN': 2, 'PUNCT': 2, 'PRON': 1, 'CCONJ': 1, 'AUX': 1})\n",
            "Counter({'NOUN': 5, 'ADP': 4, 'ADJ': 3, 'VERB': 2, 'DET': 2, 'NUM': 2, 'PROPN': 2, 'PUNCT': 2, 'PRON': 1, 'CCONJ': 1, 'AUX': 1})\n",
            "Counter({'NOUN': 5, 'ADP': 4, 'ADJ': 3, 'VERB': 2, 'DET': 2, 'NUM': 2, 'PROPN': 2, 'PUNCT': 2, 'PRON': 1, 'CCONJ': 1, 'AUX': 1})\n",
            "Counter({'NOUN': 5, 'ADP': 4, 'ADJ': 3, 'VERB': 2, 'DET': 2, 'NUM': 2, 'PROPN': 2, 'PUNCT': 2, 'PRON': 1, 'CCONJ': 1, 'AUX': 1})\n",
            "Counter({'NOUN': 5, 'ADP': 4, 'ADJ': 3, 'VERB': 2, 'DET': 2, 'NUM': 2, 'PROPN': 2, 'PUNCT': 2, 'PRON': 1, 'CCONJ': 1, 'AUX': 1})\n",
            "Counter({'NOUN': 5, 'ADP': 4, 'ADJ': 3, 'VERB': 2, 'DET': 2, 'NUM': 2, 'PROPN': 2, 'PUNCT': 2, 'PRON': 1, 'CCONJ': 1, 'AUX': 1})\n",
            "Counter({'NOUN': 5, 'ADP': 4, 'ADJ': 3, 'VERB': 2, 'DET': 2, 'NUM': 2, 'PROPN': 2, 'PUNCT': 2, 'PRON': 1, 'CCONJ': 1, 'AUX': 1})\n",
            "Counter({'NOUN': 5, 'ADP': 4, 'ADJ': 3, 'VERB': 2, 'DET': 2, 'NUM': 2, 'PROPN': 2, 'PUNCT': 2, 'PRON': 1, 'CCONJ': 1, 'AUX': 1})\n",
            "Counter({'NOUN': 5, 'ADP': 4, 'ADJ': 3, 'VERB': 2, 'DET': 2, 'NUM': 2, 'PROPN': 2, 'PUNCT': 2, 'PRON': 1, 'CCONJ': 1, 'AUX': 1})\n",
            "Counter({'NOUN': 5, 'ADP': 4, 'ADJ': 3, 'VERB': 2, 'DET': 2, 'NUM': 2, 'PROPN': 2, 'PUNCT': 2, 'PRON': 1, 'CCONJ': 1, 'AUX': 1})\n",
            "Counter({'NOUN': 5, 'ADP': 4, 'ADJ': 3, 'VERB': 2, 'DET': 2, 'NUM': 2, 'PROPN': 2, 'PUNCT': 2, 'PRON': 1, 'CCONJ': 1, 'AUX': 1})\n",
            "Counter({'NOUN': 5, 'ADP': 4, 'ADJ': 3, 'VERB': 2, 'DET': 2, 'NUM': 2, 'PROPN': 2, 'PUNCT': 2, 'PRON': 1, 'CCONJ': 1, 'AUX': 1})\n",
            "Counter({'NOUN': 5, 'ADP': 4, 'ADJ': 3, 'VERB': 2, 'DET': 2, 'NUM': 2, 'PROPN': 2, 'PUNCT': 2, 'PRON': 1, 'CCONJ': 1, 'AUX': 1})\n",
            "Counter({'NOUN': 5, 'ADP': 4, 'ADJ': 3, 'VERB': 2, 'DET': 2, 'NUM': 2, 'PROPN': 2, 'PUNCT': 2, 'PRON': 1, 'CCONJ': 1, 'AUX': 1})\n",
            "Adj count 11.538461538461538\n"
          ]
        }
      ]
    },
    {
      "cell_type": "code",
      "source": [
        "!pip install scikit-fuzzy\n",
        "import skfuzzy as fuzz\n",
        "from skfuzzy import control as ctrl"
      ],
      "metadata": {
        "colab": {
          "base_uri": "https://localhost:8080/"
        },
        "id": "CeQ_7HFGVfTk",
        "outputId": "2e2cbc16-8eab-4802-e7c7-49c7e3f58c2e"
      },
      "execution_count": null,
      "outputs": [
        {
          "output_type": "stream",
          "name": "stdout",
          "text": [
            "Collecting scikit-fuzzy\n",
            "  Downloading scikit_fuzzy-0.5.0-py2.py3-none-any.whl.metadata (2.6 kB)\n",
            "Downloading scikit_fuzzy-0.5.0-py2.py3-none-any.whl (920 kB)\n",
            "\u001b[2K   \u001b[90m━━━━━━━━━━━━━━━━━━━━━━━━━━━━━━━━━━━━━━━━\u001b[0m \u001b[32m920.8/920.8 kB\u001b[0m \u001b[31m10.1 MB/s\u001b[0m eta \u001b[36m0:00:00\u001b[0m\n",
            "\u001b[?25hInstalling collected packages: scikit-fuzzy\n",
            "Successfully installed scikit-fuzzy-0.5.0\n"
          ]
        }
      ]
    },
    {
      "cell_type": "code",
      "source": [
        "import numpy as np\n",
        "similarity_document = ctrl.Antecedent(np.arange(0, 1.25, .1), 'similarity')\n",
        "sentiment_score = ctrl.Antecedent(np.arange(0, 1.25, .1), 'sentiment_score')\n",
        "nounCount = ctrl.Antecedent(np.arange(0, 110, 10), 'nounCount')\n",
        "verbCount = ctrl.Antecedent(np.arange(0, 110, 10), 'verbCount')\n",
        "adjCount = ctrl.Antecedent(np.arange(0, 110, 10), 'adjCount')"
      ],
      "metadata": {
        "id": "rCN3ZTSfVv4G"
      },
      "execution_count": null,
      "outputs": []
    },
    {
      "cell_type": "code",
      "source": [
        "rank = ctrl.Consequent(np.arange(0, 24, 1), 'rank')"
      ],
      "metadata": {
        "id": "7Q3J69kdV5mA"
      },
      "execution_count": null,
      "outputs": []
    },
    {
      "cell_type": "code",
      "source": [
        "similarity_document['low'] = fuzz.trimf(similarity_document.universe, [0, 0.3, 0.5])\n",
        "similarity_document['average'] = fuzz.trimf(similarity_document.universe, [0.3, 0.7, 1])\n",
        "similarity_document['high'] = fuzz.trimf(similarity_document.universe, [0.7, 1, 1.25])\n",
        "\n",
        "sentiment_score['low'] = fuzz.trimf(sentiment_score.universe, [0, 0.3, 0.5])\n",
        "sentiment_score['average'] = fuzz.trimf(sentiment_score.universe, [0.3, 0.7, 1])\n",
        "sentiment_score['high'] = fuzz.trimf(sentiment_score.universe, [0.7, 1, 1.25])\n",
        "\n",
        "nounCount['low'] = fuzz.trimf(nounCount.universe, [0, 30, 50])\n",
        "nounCount['average'] = fuzz.trimf(nounCount.universe, [30, 70, 100])\n",
        "nounCount['high'] = fuzz.trimf(nounCount.universe, [70, 100, 110])\n",
        "\n",
        "verbCount['low'] = fuzz.trimf(verbCount.universe, [0, 30, 50])\n",
        "verbCount['average'] = fuzz.trimf(verbCount.universe, [30, 50, 70])\n",
        "verbCount['high'] = fuzz.trimf(verbCount.universe, [50, 70, 110])\n",
        "\n",
        "rank['low'] = fuzz.trimf(rank.universe, [0, 0, 10])\n",
        "rank['average'] = fuzz.trimf(rank.universe, [10, 12, 24])\n",
        "rank['high'] = fuzz.trapmf(rank.universe, [12, 18, 24, 24])"
      ],
      "metadata": {
        "id": "XzQ2c5QtWXsw"
      },
      "execution_count": null,
      "outputs": []
    },
    {
      "cell_type": "code",
      "source": [
        "rule1 = ctrl.Rule(similarity_document['low'] | sentiment_score['low'], rank['low'])\n",
        "rule2 = ctrl.Rule(sentiment_score['average'], rank['average'])\n",
        "rule3 = ctrl.Rule(sentiment_score['average'] | similarity_document['average'], rank['average'])\n",
        "rule10 = ctrl.Rule(similarity_document['high'] & nounCount[\"high\"] & sentiment_score['high'] & verbCount[\"high\"], rank['high'])"
      ],
      "metadata": {
        "id": "e1XgtuSZWaJZ"
      },
      "execution_count": null,
      "outputs": []
    },
    {
      "cell_type": "code",
      "source": [
        "rankFIS = ctrl.ControlSystem([rule1, rule2, rule3, rule10]) # Removed undefined rules: rule4, rule5, rule6, rule7, rule8, rule9\n",
        "rankFIS = ctrl.ControlSystemSimulation(rankFIS)"
      ],
      "metadata": {
        "id": "4-JuJV6yWnng"
      },
      "execution_count": null,
      "outputs": []
    },
    {
      "cell_type": "code",
      "source": [
        "rankFIS = ctrl.ControlSystem([rule1, rule2, rule3, rule10])\n",
        "rankFIS = ctrl.ControlSystemSimulation(rankFIS)\n",
        "\n",
        "rankFIS.input['similarity'] = getSimilarity(doc, sent)\n",
        "rankFIS.input['sentiment_score'] = getsentiment2(sent)\n",
        "rankFIS.input['nounCount'] = getPOSCOUNT(text_document_snippet, \"NOUN\")\n",
        "rankFIS.input['verbCount'] = getPOSCOUNT(text_document_snippet, \"VERB\")\n",
        "\n",
        "rankFIS.compute()\n",
        "\n",
        "print(rankFIS.output['rank'])"
      ],
      "metadata": {
        "colab": {
          "base_uri": "https://localhost:8080/"
        },
        "id": "OnLyMvdXXuaF",
        "outputId": "df1b7081-04fd-4748-894e-3692cdaf2860"
      },
      "execution_count": null,
      "outputs": [
        {
          "output_type": "stream",
          "name": "stderr",
          "text": [
            "<ipython-input-12-f1a6945d27b3>:2: UserWarning: [W007] The model you're using has no word vectors loaded, so the result of the Doc.similarity method will be based on the tagger, parser and NER, which may not give useful similarity judgements. This may happen if you're using one of the small models, e.g. `en_core_web_sm`, which don't ship with word vectors and only use context-sensitive tensors. You can always add your own word vectors, or use one of the larger models instead if available.\n",
            "  return doc1.similarity(sentence1)\n"
          ]
        },
        {
          "output_type": "stream",
          "name": "stdout",
          "text": [
            "Sentiment 7.0\n",
            "Counter({'NOUN': 5, 'ADP': 4, 'ADJ': 3, 'VERB': 2, 'DET': 2, 'NUM': 2, 'PROPN': 2, 'PUNCT': 2, 'PRON': 1, 'CCONJ': 1, 'AUX': 1})\n",
            "Counter({'NOUN': 5, 'ADP': 4, 'ADJ': 3, 'VERB': 2, 'DET': 2, 'NUM': 2, 'PROPN': 2, 'PUNCT': 2, 'PRON': 1, 'CCONJ': 1, 'AUX': 1})\n",
            "Counter({'NOUN': 5, 'ADP': 4, 'ADJ': 3, 'VERB': 2, 'DET': 2, 'NUM': 2, 'PROPN': 2, 'PUNCT': 2, 'PRON': 1, 'CCONJ': 1, 'AUX': 1})\n",
            "Counter({'NOUN': 5, 'ADP': 4, 'ADJ': 3, 'VERB': 2, 'DET': 2, 'NUM': 2, 'PROPN': 2, 'PUNCT': 2, 'PRON': 1, 'CCONJ': 1, 'AUX': 1})\n",
            "Counter({'NOUN': 5, 'ADP': 4, 'ADJ': 3, 'VERB': 2, 'DET': 2, 'NUM': 2, 'PROPN': 2, 'PUNCT': 2, 'PRON': 1, 'CCONJ': 1, 'AUX': 1})\n",
            "Counter({'NOUN': 5, 'ADP': 4, 'ADJ': 3, 'VERB': 2, 'DET': 2, 'NUM': 2, 'PROPN': 2, 'PUNCT': 2, 'PRON': 1, 'CCONJ': 1, 'AUX': 1})\n",
            "Counter({'NOUN': 5, 'ADP': 4, 'ADJ': 3, 'VERB': 2, 'DET': 2, 'NUM': 2, 'PROPN': 2, 'PUNCT': 2, 'PRON': 1, 'CCONJ': 1, 'AUX': 1})\n",
            "Counter({'NOUN': 5, 'ADP': 4, 'ADJ': 3, 'VERB': 2, 'DET': 2, 'NUM': 2, 'PROPN': 2, 'PUNCT': 2, 'PRON': 1, 'CCONJ': 1, 'AUX': 1})\n",
            "Counter({'NOUN': 5, 'ADP': 4, 'ADJ': 3, 'VERB': 2, 'DET': 2, 'NUM': 2, 'PROPN': 2, 'PUNCT': 2, 'PRON': 1, 'CCONJ': 1, 'AUX': 1})\n",
            "Counter({'NOUN': 5, 'ADP': 4, 'ADJ': 3, 'VERB': 2, 'DET': 2, 'NUM': 2, 'PROPN': 2, 'PUNCT': 2, 'PRON': 1, 'CCONJ': 1, 'AUX': 1})\n",
            "Counter({'NOUN': 5, 'ADP': 4, 'ADJ': 3, 'VERB': 2, 'DET': 2, 'NUM': 2, 'PROPN': 2, 'PUNCT': 2, 'PRON': 1, 'CCONJ': 1, 'AUX': 1})\n",
            "Counter({'NOUN': 5, 'ADP': 4, 'ADJ': 3, 'VERB': 2, 'DET': 2, 'NUM': 2, 'PROPN': 2, 'PUNCT': 2, 'PRON': 1, 'CCONJ': 1, 'AUX': 1})\n",
            "Counter({'NOUN': 5, 'ADP': 4, 'ADJ': 3, 'VERB': 2, 'DET': 2, 'NUM': 2, 'PROPN': 2, 'PUNCT': 2, 'PRON': 1, 'CCONJ': 1, 'AUX': 1})\n",
            "Counter({'NOUN': 5, 'ADP': 4, 'ADJ': 3, 'VERB': 2, 'DET': 2, 'NUM': 2, 'PROPN': 2, 'PUNCT': 2, 'PRON': 1, 'CCONJ': 1, 'AUX': 1})\n",
            "Counter({'NOUN': 5, 'ADP': 4, 'ADJ': 3, 'VERB': 2, 'DET': 2, 'NUM': 2, 'PROPN': 2, 'PUNCT': 2, 'PRON': 1, 'CCONJ': 1, 'AUX': 1})\n",
            "Counter({'NOUN': 5, 'ADP': 4, 'ADJ': 3, 'VERB': 2, 'DET': 2, 'NUM': 2, 'PROPN': 2, 'PUNCT': 2, 'PRON': 1, 'CCONJ': 1, 'AUX': 1})\n",
            "Counter({'NOUN': 5, 'ADP': 4, 'ADJ': 3, 'VERB': 2, 'DET': 2, 'NUM': 2, 'PROPN': 2, 'PUNCT': 2, 'PRON': 1, 'CCONJ': 1, 'AUX': 1})\n",
            "Counter({'NOUN': 5, 'ADP': 4, 'ADJ': 3, 'VERB': 2, 'DET': 2, 'NUM': 2, 'PROPN': 2, 'PUNCT': 2, 'PRON': 1, 'CCONJ': 1, 'AUX': 1})\n",
            "Counter({'NOUN': 5, 'ADP': 4, 'ADJ': 3, 'VERB': 2, 'DET': 2, 'NUM': 2, 'PROPN': 2, 'PUNCT': 2, 'PRON': 1, 'CCONJ': 1, 'AUX': 1})\n",
            "Counter({'NOUN': 5, 'ADP': 4, 'ADJ': 3, 'VERB': 2, 'DET': 2, 'NUM': 2, 'PROPN': 2, 'PUNCT': 2, 'PRON': 1, 'CCONJ': 1, 'AUX': 1})\n",
            "Counter({'NOUN': 5, 'ADP': 4, 'ADJ': 3, 'VERB': 2, 'DET': 2, 'NUM': 2, 'PROPN': 2, 'PUNCT': 2, 'PRON': 1, 'CCONJ': 1, 'AUX': 1})\n",
            "Counter({'NOUN': 5, 'ADP': 4, 'ADJ': 3, 'VERB': 2, 'DET': 2, 'NUM': 2, 'PROPN': 2, 'PUNCT': 2, 'PRON': 1, 'CCONJ': 1, 'AUX': 1})\n",
            "Counter({'NOUN': 5, 'ADP': 4, 'ADJ': 3, 'VERB': 2, 'DET': 2, 'NUM': 2, 'PROPN': 2, 'PUNCT': 2, 'PRON': 1, 'CCONJ': 1, 'AUX': 1})\n",
            "Counter({'NOUN': 5, 'ADP': 4, 'ADJ': 3, 'VERB': 2, 'DET': 2, 'NUM': 2, 'PROPN': 2, 'PUNCT': 2, 'PRON': 1, 'CCONJ': 1, 'AUX': 1})\n",
            "Counter({'NOUN': 5, 'ADP': 4, 'ADJ': 3, 'VERB': 2, 'DET': 2, 'NUM': 2, 'PROPN': 2, 'PUNCT': 2, 'PRON': 1, 'CCONJ': 1, 'AUX': 1})\n",
            "Counter({'NOUN': 5, 'ADP': 4, 'ADJ': 3, 'VERB': 2, 'DET': 2, 'NUM': 2, 'PROPN': 2, 'PUNCT': 2, 'PRON': 1, 'CCONJ': 1, 'AUX': 1})\n",
            "Counter({'NOUN': 5, 'ADP': 4, 'ADJ': 3, 'VERB': 2, 'DET': 2, 'NUM': 2, 'PROPN': 2, 'PUNCT': 2, 'PRON': 1, 'CCONJ': 1, 'AUX': 1})\n",
            "Counter({'NOUN': 5, 'ADP': 4, 'ADJ': 3, 'VERB': 2, 'DET': 2, 'NUM': 2, 'PROPN': 2, 'PUNCT': 2, 'PRON': 1, 'CCONJ': 1, 'AUX': 1})\n",
            "Counter({'NOUN': 5, 'ADP': 4, 'ADJ': 3, 'VERB': 2, 'DET': 2, 'NUM': 2, 'PROPN': 2, 'PUNCT': 2, 'PRON': 1, 'CCONJ': 1, 'AUX': 1})\n",
            "Counter({'NOUN': 5, 'ADP': 4, 'ADJ': 3, 'VERB': 2, 'DET': 2, 'NUM': 2, 'PROPN': 2, 'PUNCT': 2, 'PRON': 1, 'CCONJ': 1, 'AUX': 1})\n",
            "Counter({'NOUN': 5, 'ADP': 4, 'ADJ': 3, 'VERB': 2, 'DET': 2, 'NUM': 2, 'PROPN': 2, 'PUNCT': 2, 'PRON': 1, 'CCONJ': 1, 'AUX': 1})\n",
            "Counter({'NOUN': 5, 'ADP': 4, 'ADJ': 3, 'VERB': 2, 'DET': 2, 'NUM': 2, 'PROPN': 2, 'PUNCT': 2, 'PRON': 1, 'CCONJ': 1, 'AUX': 1})\n",
            "Counter({'NOUN': 5, 'ADP': 4, 'ADJ': 3, 'VERB': 2, 'DET': 2, 'NUM': 2, 'PROPN': 2, 'PUNCT': 2, 'PRON': 1, 'CCONJ': 1, 'AUX': 1})\n",
            "Counter({'NOUN': 5, 'ADP': 4, 'ADJ': 3, 'VERB': 2, 'DET': 2, 'NUM': 2, 'PROPN': 2, 'PUNCT': 2, 'PRON': 1, 'CCONJ': 1, 'AUX': 1})\n",
            "Counter({'NOUN': 5, 'ADP': 4, 'ADJ': 3, 'VERB': 2, 'DET': 2, 'NUM': 2, 'PROPN': 2, 'PUNCT': 2, 'PRON': 1, 'CCONJ': 1, 'AUX': 1})\n",
            "Counter({'NOUN': 5, 'ADP': 4, 'ADJ': 3, 'VERB': 2, 'DET': 2, 'NUM': 2, 'PROPN': 2, 'PUNCT': 2, 'PRON': 1, 'CCONJ': 1, 'AUX': 1})\n",
            "Counter({'NOUN': 5, 'ADP': 4, 'ADJ': 3, 'VERB': 2, 'DET': 2, 'NUM': 2, 'PROPN': 2, 'PUNCT': 2, 'PRON': 1, 'CCONJ': 1, 'AUX': 1})\n",
            "Counter({'NOUN': 5, 'ADP': 4, 'ADJ': 3, 'VERB': 2, 'DET': 2, 'NUM': 2, 'PROPN': 2, 'PUNCT': 2, 'PRON': 1, 'CCONJ': 1, 'AUX': 1})\n",
            "Counter({'NOUN': 5, 'ADP': 4, 'ADJ': 3, 'VERB': 2, 'DET': 2, 'NUM': 2, 'PROPN': 2, 'PUNCT': 2, 'PRON': 1, 'CCONJ': 1, 'AUX': 1})\n",
            "Counter({'NOUN': 5, 'ADP': 4, 'ADJ': 3, 'VERB': 2, 'DET': 2, 'NUM': 2, 'PROPN': 2, 'PUNCT': 2, 'PRON': 1, 'CCONJ': 1, 'AUX': 1})\n",
            "Counter({'NOUN': 5, 'ADP': 4, 'ADJ': 3, 'VERB': 2, 'DET': 2, 'NUM': 2, 'PROPN': 2, 'PUNCT': 2, 'PRON': 1, 'CCONJ': 1, 'AUX': 1})\n",
            "Counter({'NOUN': 5, 'ADP': 4, 'ADJ': 3, 'VERB': 2, 'DET': 2, 'NUM': 2, 'PROPN': 2, 'PUNCT': 2, 'PRON': 1, 'CCONJ': 1, 'AUX': 1})\n",
            "Counter({'NOUN': 5, 'ADP': 4, 'ADJ': 3, 'VERB': 2, 'DET': 2, 'NUM': 2, 'PROPN': 2, 'PUNCT': 2, 'PRON': 1, 'CCONJ': 1, 'AUX': 1})\n",
            "Counter({'NOUN': 5, 'ADP': 4, 'ADJ': 3, 'VERB': 2, 'DET': 2, 'NUM': 2, 'PROPN': 2, 'PUNCT': 2, 'PRON': 1, 'CCONJ': 1, 'AUX': 1})\n",
            "Counter({'NOUN': 5, 'ADP': 4, 'ADJ': 3, 'VERB': 2, 'DET': 2, 'NUM': 2, 'PROPN': 2, 'PUNCT': 2, 'PRON': 1, 'CCONJ': 1, 'AUX': 1})\n",
            "Counter({'NOUN': 5, 'ADP': 4, 'ADJ': 3, 'VERB': 2, 'DET': 2, 'NUM': 2, 'PROPN': 2, 'PUNCT': 2, 'PRON': 1, 'CCONJ': 1, 'AUX': 1})\n",
            "Counter({'NOUN': 5, 'ADP': 4, 'ADJ': 3, 'VERB': 2, 'DET': 2, 'NUM': 2, 'PROPN': 2, 'PUNCT': 2, 'PRON': 1, 'CCONJ': 1, 'AUX': 1})\n",
            "Counter({'NOUN': 5, 'ADP': 4, 'ADJ': 3, 'VERB': 2, 'DET': 2, 'NUM': 2, 'PROPN': 2, 'PUNCT': 2, 'PRON': 1, 'CCONJ': 1, 'AUX': 1})\n",
            "Counter({'NOUN': 5, 'ADP': 4, 'ADJ': 3, 'VERB': 2, 'DET': 2, 'NUM': 2, 'PROPN': 2, 'PUNCT': 2, 'PRON': 1, 'CCONJ': 1, 'AUX': 1})\n",
            "Counter({'NOUN': 5, 'ADP': 4, 'ADJ': 3, 'VERB': 2, 'DET': 2, 'NUM': 2, 'PROPN': 2, 'PUNCT': 2, 'PRON': 1, 'CCONJ': 1, 'AUX': 1})\n",
            "10.74034413393369\n"
          ]
        }
      ]
    },
    {
      "cell_type": "code",
      "source": [
        "rankFIS.compute()\n",
        "print(\"the answer is\")\n",
        "print(rankFIS.output['rank'])\n",
        "rank.view(sim=rankFIS)"
      ],
      "metadata": {
        "colab": {
          "base_uri": "https://localhost:8080/",
          "height": 486
        },
        "id": "EPDhjq9BX7I0",
        "outputId": "7d13ce44-c452-4786-ef2d-9897637e156e"
      },
      "execution_count": null,
      "outputs": [
        {
          "output_type": "stream",
          "name": "stdout",
          "text": [
            "the answer is\n",
            "10.74034413393369\n"
          ]
        },
        {
          "output_type": "display_data",
          "data": {
            "text/plain": [
              "<Figure size 640x480 with 1 Axes>"
            ],
            "image/png": "[encoded data removed]"
          },
          "metadata": {}
        }
      ]
    },
    {
      "cell_type": "code",
      "source": [],
      "metadata": {
        "id": "2ILZi5F5Y3Ol"
      },
      "execution_count": null,
      "outputs": []
    }
  ]
}